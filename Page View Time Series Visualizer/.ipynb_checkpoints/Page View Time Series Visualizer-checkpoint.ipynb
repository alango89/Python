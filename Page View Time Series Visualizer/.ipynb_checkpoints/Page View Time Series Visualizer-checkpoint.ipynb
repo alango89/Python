{
 "cells": [
  {
   "cell_type": "code",
   "execution_count": 1,
   "id": "c3f20df9",
   "metadata": {},
   "outputs": [],
   "source": [
    "import matplotlib.pyplot as plt\n",
    "import pandas as pd\n",
    "import seaborn as sns\n",
    "from pandas.plotting import register_matplotlib_converters\n",
    "register_matplotlib_converters()"
   ]
  },
  {
   "cell_type": "code",
   "execution_count": null,
   "id": "45d24c13",
   "metadata": {},
   "outputs": [],
   "source": [
    "# Import data (Make sure to parse dates. Set the index to the date column.)\n",
    "df = None"
   ]
  },
  {
   "cell_type": "code",
   "execution_count": null,
   "id": "d0dcb932",
   "metadata": {},
   "outputs": [],
   "source": [
    "# Clean data \n",
    "#Clean the data by filtering out days when the page views \n",
    "#were in the top 2.5% of the dataset or bottom 2.5% of the dataset.\n",
    "\n",
    "df = None"
   ]
  },
  {
   "cell_type": "code",
   "execution_count": null,
   "id": "4ccce8d9",
   "metadata": {},
   "outputs": [],
   "source": [
    "#Create a draw_line_plot function that uses Matplotlib to draw a line chart similar to \"examples/Figure_1.png\".\n",
    "#The title should be Daily freeCodeCamp Forum Page Views 5/2016-12/2019. The label on the x axis should be Date \n",
    "#and the label on the y axis should be Page Views.\n",
    "\n",
    "def draw_line_plot():\n",
    "    # Draw line plot\n",
    "\n",
    "\n",
    "\n",
    "\n",
    "\n",
    "    # Save image and return fig (don't change this part)\n",
    "    fig.savefig('line_plot.png')\n",
    "    return fig"
   ]
  },
  {
   "cell_type": "code",
   "execution_count": null,
   "id": "8fc44426",
   "metadata": {},
   "outputs": [],
   "source": [
    "#Create a draw_bar_plot function that draws a bar chart similar to \"examples/Figure_2.png\". \n",
    "#It should show average daily page views for each month grouped by year. \n",
    "#The legend should show month labels and have a title of Months. On the chart, the label on the x axis \n",
    "#should be Years and the label on the y axis should be Average Page Views.\n",
    "\n",
    "def draw_bar_plot():\n",
    "    # Copy and modify data for monthly bar plot\n",
    "    df_bar = None\n",
    "\n",
    "    # Draw bar plot\n",
    "\n",
    "\n",
    "\n",
    "\n",
    "\n",
    "    # Save image and return fig (don't change this part)\n",
    "    fig.savefig('bar_plot.png')\n",
    "    return fig"
   ]
  },
  {
   "cell_type": "code",
   "execution_count": null,
   "id": "72047cf8",
   "metadata": {},
   "outputs": [],
   "source": [
    "#Create a draw_box_plot function that uses Seaborn to draw two adjacent box plots similar to \"examples/Figure_3.png\".\n",
    "#These box plots should show how the values are distributed within a given year or month and how it compares over \n",
    "#time. The title of the first chart should be Year-wise Box Plot (Trend) and the title of the second chart should \n",
    "#be Month-wise Box Plot (Seasonality). Make sure the month labels on bottom start at Jan and the x and y axis are \n",
    "#labeled correctly. The boilerplate includes commands to prepare the data.\n",
    "\n",
    "def draw_box_plot():\n",
    "    # Prepare data for box plots (this part is done!)\n",
    "    df_box = df.copy()\n",
    "    df_box.reset_index(inplace=True)\n",
    "    df_box['year'] = [d.year for d in df_box.date]\n",
    "    df_box['month'] = [d.strftime('%b') for d in df_box.date]\n",
    "\n",
    "    # Draw box plots (using Seaborn)\n",
    "\n",
    "\n",
    "\n",
    "\n",
    "\n",
    "    # Save image and return fig (don't change this part)\n",
    "    fig.savefig('box_plot.png')\n",
    "    return fig"
   ]
  }
 ],
 "metadata": {
  "kernelspec": {
   "display_name": "Python 3 (ipykernel)",
   "language": "python",
   "name": "python3"
  },
  "language_info": {
   "codemirror_mode": {
    "name": "ipython",
    "version": 3
   },
   "file_extension": ".py",
   "mimetype": "text/x-python",
   "name": "python",
   "nbconvert_exporter": "python",
   "pygments_lexer": "ipython3",
   "version": "3.9.13"
  }
 },
 "nbformat": 4,
 "nbformat_minor": 5
}
